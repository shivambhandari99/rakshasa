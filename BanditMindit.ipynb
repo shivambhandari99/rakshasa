{
  "nbformat": 4,
  "nbformat_minor": 0,
  "metadata": {
    "colab": {
      "name": "BanditMindit.ipynb",
      "provenance": [],
      "collapsed_sections": []
    },
    "kernelspec": {
      "name": "python3",
      "display_name": "Python 3"
    },
    "language_info": {
      "name": "python"
    }
  },
  "cells": [
    {
      "cell_type": "markdown",
      "source": [
        "Enhancement happens as the last step"
      ],
      "metadata": {
        "id": "t0r0RiDwBIxa"
      }
    },
    {
      "cell_type": "code",
      "execution_count": null,
      "metadata": {
        "colab": {
          "base_uri": "https://localhost:8080/"
        },
        "id": "5rAyPsrk_3gs",
        "outputId": "bf910280-5d5e-4daf-bffb-26164a610466"
      },
      "outputs": [
        {
          "output_type": "stream",
          "name": "stdout",
          "text": [
            "Requirement already satisfied: recogym in /usr/local/lib/python3.7/dist-packages (0.1.3.0)\n",
            "Requirement already satisfied: datetime in /usr/local/lib/python3.7/dist-packages (from recogym) (4.3)\n",
            "Requirement already satisfied: gym in /usr/local/lib/python3.7/dist-packages (from recogym) (0.17.3)\n",
            "Requirement already satisfied: scikit-learn in /usr/local/lib/python3.7/dist-packages (from recogym) (1.0.1)\n",
            "Requirement already satisfied: torch in /usr/local/lib/python3.7/dist-packages (from recogym) (1.10.0+cu111)\n",
            "Requirement already satisfied: numpy in /usr/local/lib/python3.7/dist-packages (from recogym) (1.19.5)\n",
            "Requirement already satisfied: jupyter in /usr/local/lib/python3.7/dist-packages (from recogym) (1.0.0)\n",
            "Requirement already satisfied: numba in /usr/local/lib/python3.7/dist-packages (from recogym) (0.51.2)\n",
            "Requirement already satisfied: absl-py in /usr/local/lib/python3.7/dist-packages (from recogym) (0.12.0)\n",
            "Requirement already satisfied: pandas in /usr/local/lib/python3.7/dist-packages (from recogym) (1.1.5)\n",
            "Requirement already satisfied: scipy in /usr/local/lib/python3.7/dist-packages (from recogym) (1.4.1)\n",
            "Requirement already satisfied: tensorflow in /usr/local/lib/python3.7/dist-packages (from recogym) (2.7.0)\n",
            "Requirement already satisfied: tqdm in /usr/local/lib/python3.7/dist-packages (from recogym) (4.62.3)\n",
            "Requirement already satisfied: matplotlib in /usr/local/lib/python3.7/dist-packages (from recogym) (3.2.2)\n",
            "Requirement already satisfied: simplegeneric in /usr/local/lib/python3.7/dist-packages (from recogym) (0.8.1)\n",
            "Requirement already satisfied: six in /usr/local/lib/python3.7/dist-packages (from absl-py->recogym) (1.15.0)\n",
            "Requirement already satisfied: zope.interface in /usr/local/lib/python3.7/dist-packages (from datetime->recogym) (5.4.0)\n",
            "Requirement already satisfied: pytz in /usr/local/lib/python3.7/dist-packages (from datetime->recogym) (2018.9)\n",
            "Requirement already satisfied: pyglet<=1.5.0,>=1.4.0 in /usr/local/lib/python3.7/dist-packages (from gym->recogym) (1.5.0)\n",
            "Requirement already satisfied: cloudpickle<1.7.0,>=1.2.0 in /usr/local/lib/python3.7/dist-packages (from gym->recogym) (1.3.0)\n",
            "Requirement already satisfied: future in /usr/local/lib/python3.7/dist-packages (from pyglet<=1.5.0,>=1.4.0->gym->recogym) (0.16.0)\n",
            "Requirement already satisfied: ipykernel in /usr/local/lib/python3.7/dist-packages (from jupyter->recogym) (4.10.1)\n",
            "Requirement already satisfied: ipywidgets in /usr/local/lib/python3.7/dist-packages (from jupyter->recogym) (7.6.5)\n",
            "Requirement already satisfied: notebook in /usr/local/lib/python3.7/dist-packages (from jupyter->recogym) (5.3.1)\n",
            "Requirement already satisfied: nbconvert in /usr/local/lib/python3.7/dist-packages (from jupyter->recogym) (5.6.1)\n",
            "Requirement already satisfied: qtconsole in /usr/local/lib/python3.7/dist-packages (from jupyter->recogym) (5.2.1)\n",
            "Requirement already satisfied: jupyter-console in /usr/local/lib/python3.7/dist-packages (from jupyter->recogym) (5.2.0)\n",
            "Requirement already satisfied: tornado>=4.0 in /usr/local/lib/python3.7/dist-packages (from ipykernel->jupyter->recogym) (5.1.1)\n",
            "Requirement already satisfied: jupyter-client in /usr/local/lib/python3.7/dist-packages (from ipykernel->jupyter->recogym) (5.3.5)\n",
            "Requirement already satisfied: traitlets>=4.1.0 in /usr/local/lib/python3.7/dist-packages (from ipykernel->jupyter->recogym) (5.1.1)\n",
            "Requirement already satisfied: ipython>=4.0.0 in /usr/local/lib/python3.7/dist-packages (from ipykernel->jupyter->recogym) (5.5.0)\n",
            "Requirement already satisfied: pickleshare in /usr/local/lib/python3.7/dist-packages (from ipython>=4.0.0->ipykernel->jupyter->recogym) (0.7.5)\n",
            "Requirement already satisfied: pexpect in /usr/local/lib/python3.7/dist-packages (from ipython>=4.0.0->ipykernel->jupyter->recogym) (4.8.0)\n",
            "Requirement already satisfied: decorator in /usr/local/lib/python3.7/dist-packages (from ipython>=4.0.0->ipykernel->jupyter->recogym) (4.4.2)\n",
            "Requirement already satisfied: prompt-toolkit<2.0.0,>=1.0.4 in /usr/local/lib/python3.7/dist-packages (from ipython>=4.0.0->ipykernel->jupyter->recogym) (1.0.18)\n",
            "Requirement already satisfied: setuptools>=18.5 in /usr/local/lib/python3.7/dist-packages (from ipython>=4.0.0->ipykernel->jupyter->recogym) (57.4.0)\n",
            "Requirement already satisfied: pygments in /usr/local/lib/python3.7/dist-packages (from ipython>=4.0.0->ipykernel->jupyter->recogym) (2.6.1)\n",
            "Requirement already satisfied: wcwidth in /usr/local/lib/python3.7/dist-packages (from prompt-toolkit<2.0.0,>=1.0.4->ipython>=4.0.0->ipykernel->jupyter->recogym) (0.2.5)\n",
            "Requirement already satisfied: widgetsnbextension~=3.5.0 in /usr/local/lib/python3.7/dist-packages (from ipywidgets->jupyter->recogym) (3.5.2)\n",
            "Requirement already satisfied: nbformat>=4.2.0 in /usr/local/lib/python3.7/dist-packages (from ipywidgets->jupyter->recogym) (5.1.3)\n",
            "Requirement already satisfied: ipython-genutils~=0.2.0 in /usr/local/lib/python3.7/dist-packages (from ipywidgets->jupyter->recogym) (0.2.0)\n",
            "Requirement already satisfied: jupyterlab-widgets>=1.0.0 in /usr/local/lib/python3.7/dist-packages (from ipywidgets->jupyter->recogym) (1.0.2)\n",
            "Requirement already satisfied: jsonschema!=2.5.0,>=2.4 in /usr/local/lib/python3.7/dist-packages (from nbformat>=4.2.0->ipywidgets->jupyter->recogym) (2.6.0)\n",
            "Requirement already satisfied: jupyter-core in /usr/local/lib/python3.7/dist-packages (from nbformat>=4.2.0->ipywidgets->jupyter->recogym) (4.9.1)\n",
            "Requirement already satisfied: jinja2 in /usr/local/lib/python3.7/dist-packages (from notebook->jupyter->recogym) (2.11.3)\n",
            "Requirement already satisfied: Send2Trash in /usr/local/lib/python3.7/dist-packages (from notebook->jupyter->recogym) (1.8.0)\n",
            "Requirement already satisfied: terminado>=0.8.1 in /usr/local/lib/python3.7/dist-packages (from notebook->jupyter->recogym) (0.12.1)\n",
            "Requirement already satisfied: python-dateutil>=2.1 in /usr/local/lib/python3.7/dist-packages (from jupyter-client->ipykernel->jupyter->recogym) (2.8.2)\n",
            "Requirement already satisfied: pyzmq>=13 in /usr/local/lib/python3.7/dist-packages (from jupyter-client->ipykernel->jupyter->recogym) (22.3.0)\n",
            "Requirement already satisfied: ptyprocess in /usr/local/lib/python3.7/dist-packages (from terminado>=0.8.1->notebook->jupyter->recogym) (0.7.0)\n",
            "Requirement already satisfied: MarkupSafe>=0.23 in /usr/local/lib/python3.7/dist-packages (from jinja2->notebook->jupyter->recogym) (2.0.1)\n",
            "Requirement already satisfied: cycler>=0.10 in /usr/local/lib/python3.7/dist-packages (from matplotlib->recogym) (0.11.0)\n",
            "Requirement already satisfied: pyparsing!=2.0.4,!=2.1.2,!=2.1.6,>=2.0.1 in /usr/local/lib/python3.7/dist-packages (from matplotlib->recogym) (3.0.6)\n",
            "Requirement already satisfied: kiwisolver>=1.0.1 in /usr/local/lib/python3.7/dist-packages (from matplotlib->recogym) (1.3.2)\n",
            "Requirement already satisfied: entrypoints>=0.2.2 in /usr/local/lib/python3.7/dist-packages (from nbconvert->jupyter->recogym) (0.3)\n",
            "Requirement already satisfied: mistune<2,>=0.8.1 in /usr/local/lib/python3.7/dist-packages (from nbconvert->jupyter->recogym) (0.8.4)\n",
            "Requirement already satisfied: pandocfilters>=1.4.1 in /usr/local/lib/python3.7/dist-packages (from nbconvert->jupyter->recogym) (1.5.0)\n",
            "Requirement already satisfied: defusedxml in /usr/local/lib/python3.7/dist-packages (from nbconvert->jupyter->recogym) (0.7.1)\n",
            "Requirement already satisfied: testpath in /usr/local/lib/python3.7/dist-packages (from nbconvert->jupyter->recogym) (0.5.0)\n",
            "Requirement already satisfied: bleach in /usr/local/lib/python3.7/dist-packages (from nbconvert->jupyter->recogym) (4.1.0)\n",
            "Requirement already satisfied: webencodings in /usr/local/lib/python3.7/dist-packages (from bleach->nbconvert->jupyter->recogym) (0.5.1)\n",
            "Requirement already satisfied: packaging in /usr/local/lib/python3.7/dist-packages (from bleach->nbconvert->jupyter->recogym) (21.3)\n",
            "Requirement already satisfied: llvmlite<0.35,>=0.34.0.dev0 in /usr/local/lib/python3.7/dist-packages (from numba->recogym) (0.34.0)\n",
            "Requirement already satisfied: qtpy in /usr/local/lib/python3.7/dist-packages (from qtconsole->jupyter->recogym) (1.11.2)\n",
            "Requirement already satisfied: joblib>=0.11 in /usr/local/lib/python3.7/dist-packages (from scikit-learn->recogym) (1.1.0)\n",
            "Requirement already satisfied: threadpoolctl>=2.0.0 in /usr/local/lib/python3.7/dist-packages (from scikit-learn->recogym) (3.0.0)\n",
            "Requirement already satisfied: tensorboard~=2.6 in /usr/local/lib/python3.7/dist-packages (from tensorflow->recogym) (2.7.0)\n",
            "Requirement already satisfied: gast<0.5.0,>=0.2.1 in /usr/local/lib/python3.7/dist-packages (from tensorflow->recogym) (0.4.0)\n",
            "Requirement already satisfied: libclang>=9.0.1 in /usr/local/lib/python3.7/dist-packages (from tensorflow->recogym) (12.0.0)\n",
            "Requirement already satisfied: protobuf>=3.9.2 in /usr/local/lib/python3.7/dist-packages (from tensorflow->recogym) (3.17.3)\n",
            "Requirement already satisfied: termcolor>=1.1.0 in /usr/local/lib/python3.7/dist-packages (from tensorflow->recogym) (1.1.0)\n",
            "Requirement already satisfied: wheel<1.0,>=0.32.0 in /usr/local/lib/python3.7/dist-packages (from tensorflow->recogym) (0.37.0)\n",
            "Requirement already satisfied: wrapt>=1.11.0 in /usr/local/lib/python3.7/dist-packages (from tensorflow->recogym) (1.13.3)\n",
            "Requirement already satisfied: keras<2.8,>=2.7.0rc0 in /usr/local/lib/python3.7/dist-packages (from tensorflow->recogym) (2.7.0)\n",
            "Requirement already satisfied: h5py>=2.9.0 in /usr/local/lib/python3.7/dist-packages (from tensorflow->recogym) (3.1.0)\n",
            "Requirement already satisfied: astunparse>=1.6.0 in /usr/local/lib/python3.7/dist-packages (from tensorflow->recogym) (1.6.3)\n",
            "Requirement already satisfied: tensorflow-io-gcs-filesystem>=0.21.0 in /usr/local/lib/python3.7/dist-packages (from tensorflow->recogym) (0.22.0)\n",
            "Requirement already satisfied: flatbuffers<3.0,>=1.12 in /usr/local/lib/python3.7/dist-packages (from tensorflow->recogym) (2.0)\n",
            "Requirement already satisfied: google-pasta>=0.1.1 in /usr/local/lib/python3.7/dist-packages (from tensorflow->recogym) (0.2.0)\n",
            "Requirement already satisfied: keras-preprocessing>=1.1.1 in /usr/local/lib/python3.7/dist-packages (from tensorflow->recogym) (1.1.2)\n",
            "Requirement already satisfied: opt-einsum>=2.3.2 in /usr/local/lib/python3.7/dist-packages (from tensorflow->recogym) (3.3.0)\n",
            "Requirement already satisfied: typing-extensions>=3.6.6 in /usr/local/lib/python3.7/dist-packages (from tensorflow->recogym) (3.10.0.2)\n",
            "Requirement already satisfied: grpcio<2.0,>=1.24.3 in /usr/local/lib/python3.7/dist-packages (from tensorflow->recogym) (1.42.0)\n",
            "Requirement already satisfied: tensorflow-estimator<2.8,~=2.7.0rc0 in /usr/local/lib/python3.7/dist-packages (from tensorflow->recogym) (2.7.0)\n",
            "Requirement already satisfied: cached-property in /usr/local/lib/python3.7/dist-packages (from h5py>=2.9.0->tensorflow->recogym) (1.5.2)\n",
            "Requirement already satisfied: tensorboard-data-server<0.7.0,>=0.6.0 in /usr/local/lib/python3.7/dist-packages (from tensorboard~=2.6->tensorflow->recogym) (0.6.1)\n",
            "Requirement already satisfied: markdown>=2.6.8 in /usr/local/lib/python3.7/dist-packages (from tensorboard~=2.6->tensorflow->recogym) (3.3.6)\n",
            "Requirement already satisfied: werkzeug>=0.11.15 in /usr/local/lib/python3.7/dist-packages (from tensorboard~=2.6->tensorflow->recogym) (1.0.1)\n",
            "Requirement already satisfied: tensorboard-plugin-wit>=1.6.0 in /usr/local/lib/python3.7/dist-packages (from tensorboard~=2.6->tensorflow->recogym) (1.8.0)\n",
            "Requirement already satisfied: requests<3,>=2.21.0 in /usr/local/lib/python3.7/dist-packages (from tensorboard~=2.6->tensorflow->recogym) (2.23.0)\n",
            "Requirement already satisfied: google-auth<3,>=1.6.3 in /usr/local/lib/python3.7/dist-packages (from tensorboard~=2.6->tensorflow->recogym) (1.35.0)\n",
            "Requirement already satisfied: google-auth-oauthlib<0.5,>=0.4.1 in /usr/local/lib/python3.7/dist-packages (from tensorboard~=2.6->tensorflow->recogym) (0.4.6)\n",
            "Requirement already satisfied: rsa<5,>=3.1.4 in /usr/local/lib/python3.7/dist-packages (from google-auth<3,>=1.6.3->tensorboard~=2.6->tensorflow->recogym) (4.8)\n",
            "Requirement already satisfied: cachetools<5.0,>=2.0.0 in /usr/local/lib/python3.7/dist-packages (from google-auth<3,>=1.6.3->tensorboard~=2.6->tensorflow->recogym) (4.2.4)\n",
            "Requirement already satisfied: pyasn1-modules>=0.2.1 in /usr/local/lib/python3.7/dist-packages (from google-auth<3,>=1.6.3->tensorboard~=2.6->tensorflow->recogym) (0.2.8)\n",
            "Requirement already satisfied: requests-oauthlib>=0.7.0 in /usr/local/lib/python3.7/dist-packages (from google-auth-oauthlib<0.5,>=0.4.1->tensorboard~=2.6->tensorflow->recogym) (1.3.0)\n",
            "Requirement already satisfied: importlib-metadata>=4.4 in /usr/local/lib/python3.7/dist-packages (from markdown>=2.6.8->tensorboard~=2.6->tensorflow->recogym) (4.8.2)\n",
            "Requirement already satisfied: zipp>=0.5 in /usr/local/lib/python3.7/dist-packages (from importlib-metadata>=4.4->markdown>=2.6.8->tensorboard~=2.6->tensorflow->recogym) (3.6.0)\n",
            "Requirement already satisfied: pyasn1<0.5.0,>=0.4.6 in /usr/local/lib/python3.7/dist-packages (from pyasn1-modules>=0.2.1->google-auth<3,>=1.6.3->tensorboard~=2.6->tensorflow->recogym) (0.4.8)\n",
            "Requirement already satisfied: idna<3,>=2.5 in /usr/local/lib/python3.7/dist-packages (from requests<3,>=2.21.0->tensorboard~=2.6->tensorflow->recogym) (2.10)\n",
            "Requirement already satisfied: chardet<4,>=3.0.2 in /usr/local/lib/python3.7/dist-packages (from requests<3,>=2.21.0->tensorboard~=2.6->tensorflow->recogym) (3.0.4)\n",
            "Requirement already satisfied: urllib3!=1.25.0,!=1.25.1,<1.26,>=1.21.1 in /usr/local/lib/python3.7/dist-packages (from requests<3,>=2.21.0->tensorboard~=2.6->tensorflow->recogym) (1.24.3)\n",
            "Requirement already satisfied: certifi>=2017.4.17 in /usr/local/lib/python3.7/dist-packages (from requests<3,>=2.21.0->tensorboard~=2.6->tensorflow->recogym) (2021.10.8)\n",
            "Requirement already satisfied: oauthlib>=3.0.0 in /usr/local/lib/python3.7/dist-packages (from requests-oauthlib>=0.7.0->google-auth-oauthlib<0.5,>=0.4.1->tensorboard~=2.6->tensorflow->recogym) (3.1.1)\n"
          ]
        }
      ],
      "source": [
        "!pip3 install recogym\n",
        "import random\n",
        "random.seed(42)\n",
        "import numpy as np\n",
        "from numpy.random import choice\n",
        "from recogym.agents import BanditCount,OrganicCount,LogregMulticlassIpsAgent,BanditMFSquare,RandomAgent\n",
        "RND_SEED = 1234\n",
        "from recogym.agents import Agent\n",
        "import gym, recogym\n",
        "\n",
        "# env_0_args is a dictionary of default parameters (i.e. number of products)\n",
        "from recogym import env_1_args, Configuration\n",
        "\n"
      ]
    },
    {
      "cell_type": "code",
      "source": [
        "from torch import nn, optim, Tensor\n",
        "\n",
        "custom_args = {    \n",
        "    'num_products': 10,\n",
        "    'number_of_flips': 1,\n",
        "    'random_seed': np.random.randint(2 ** 31 - 1),\n",
        "    'select_randomly': False,\n",
        "    'poly_degree': 2,\n",
        "    'solver': 'lbfgs',\n",
        "    'max_iter': 5000,\n",
        "    'with_ps_all': False,\n",
        "    'embed_dim': 5,\n",
        "    'mini_batch_size': 32,\n",
        "    'loss_function': nn.BCEWithLogitsLoss(),\n",
        "    'optim_function': optim.RMSprop,\n",
        "    'learning_rate': 0.01,\n",
        "    'with_ps_all': False\n",
        "}\n",
        "config = Configuration({ \n",
        "        **env_1_args,\n",
        "        **custom_args,\n",
        "})\n"
      ],
      "metadata": {
        "id": "iyEJJu7t-cvX"
      },
      "execution_count": null,
      "outputs": []
    },
    {
      "cell_type": "code",
      "source": [
        "# Define an Agent class.\n",
        "\n",
        "\n",
        "\n",
        "\n",
        "\n",
        "class PopularityAgent(Agent):\n",
        "    def __init__(self, config):\n",
        "        # Set number of products as an attribute of the Agent.\n",
        "        super(PopularityAgent, self).__init__(config)\n",
        "\n",
        "        # Track number of times each item viewed in Organic session.\n",
        "        self.organic_views = np.zeros(self.config.num_products)\n",
        "\n",
        "    def train(self, observation, action, reward, done):\n",
        "        \"\"\"Train method learns from a tuple of data.\n",
        "            this method can be called for offline or online learning\"\"\"\n",
        "\n",
        "        # Adding organic session to organic view counts.\n",
        "        if observation:\n",
        "            for session in observation.sessions():\n",
        "                self.organic_views[session['v']] += 1\n",
        "\n",
        "    def act(self, observation, reward, done):\n",
        "        \"\"\"Act method returns an action based on current observation and past\n",
        "            history\"\"\"\n",
        "\n",
        "        # Choosing action randomly in proportion with number of views.\n",
        "        prob = self.organic_views / sum(self.organic_views)\n",
        "        action = choice(self.config.num_products, p = prob)\n",
        "\n",
        "        return {\n",
        "            **super().act(observation, reward, done),\n",
        "            **{\n",
        "                'a': action,\n",
        "                'ps': prob[action]\n",
        "            }\n",
        "        }"
      ],
      "metadata": {
        "id": "AcqAr2q6ej5s"
      },
      "execution_count": null,
      "outputs": []
    },
    {
      "cell_type": "code",
      "source": [
        "# You can overwrite environment arguments here:\n",
        "env_1_args['random_seed'] = 42\n",
        "\n",
        "# Initialize the gym for the first time by calling .make() and .init_gym()\n",
        "env = gym.make('reco-gym-v1')\n",
        "env.init_gym(env_1_args)\n",
        "\n",
        "# .reset() env before each episode (one episode per user).\n",
        "env.reset()\n",
        "done = False\n",
        "\n",
        "# Counting how many steps.\n",
        "i = 0\n",
        "\n",
        "observation, reward, done = None, 0, False\n",
        "while not done:\n",
        "    action, observation, reward, done, info = env.step_offline(observation, reward, done)\n",
        "    print(f\"Step: {i} - Action: {action} - Observation: {observation.sessions()} - Reward: {reward}\")\n",
        "    i += 1"
      ],
      "metadata": {
        "colab": {
          "base_uri": "https://localhost:8080/"
        },
        "id": "qlBrsi5P_7G_",
        "outputId": "fa6ab11e-2993-46ed-cf98-138988c09eef"
      },
      "execution_count": null,
      "outputs": [
        {
          "output_type": "stream",
          "name": "stdout",
          "text": [
            "Step: 0 - Action: None - Observation: [{'t': 0, 'u': 0, 'z': 'pageview', 'v': 0}] - Reward: None\n",
            "Step: 1 - Action: {'t': 1, 'u': 0, 'a': 3, 'ps': 0.1, 'ps-a': ()} - Observation: [] - Reward: 0\n",
            "Step: 2 - Action: {'t': 2, 'u': 0, 'a': 4, 'ps': 0.1, 'ps-a': ()} - Observation: [] - Reward: 0\n",
            "Step: 3 - Action: {'t': 3, 'u': 0, 'a': 5, 'ps': 0.1, 'ps-a': ()} - Observation: [] - Reward: 0\n"
          ]
        }
      ]
    },
    {
      "cell_type": "code",
      "source": [
        "\n",
        "popularity_agent = PopularityAgent(config)\n",
        "# Train on 100 users online and track click through rate.\n",
        "num_online_users = 100\n",
        "num_clicks, num_events = 0, 0\n",
        "popularity_agent_result = []\n",
        "num_offline_users = 1000\n",
        "for _ in range(num_offline_users):\n",
        "\n",
        "    # Reset env and set done to False.\n",
        "    env.reset()\n",
        "    done = False\n",
        "\n",
        "    observation, reward, done = None, 0, False\n",
        "    action, observation, reward, done, info = env.step_offline(observation, reward, done)\n",
        "    while not done:\n",
        "        old_observation = observation\n",
        "        action, observation, reward, done, info = env.step_offline(observation, reward, done)\n",
        "        popularity_agent.train(old_observation, action, reward, done)\n",
        "\n",
        "for _ in range(num_online_users):\n",
        "\n",
        "    # Reset env and set done to False.\n",
        "    env.reset()\n",
        "    observation, _, done, _ = env.step(None)\n",
        "    reward = None\n",
        "    done = None\n",
        "    while not done:\n",
        "        action = popularity_agent.act(observation, reward, done)\n",
        "        observation, reward, done, info = env.step(action['a'])\n",
        "\n",
        "        # Used for calculating click through rate.\n",
        "        num_clicks += 1 if reward == 1 and reward is not None else 0\n",
        "        num_events += 1\n",
        "        popularity_agent_result.append(num_clicks/num_events)\n",
        "\n",
        "ctr = num_clicks / num_events\n",
        "\n",
        "print(f\"Click Through Rate: {ctr:.10f}\")\n",
        "\n"
      ],
      "metadata": {
        "colab": {
          "base_uri": "https://localhost:8080/"
        },
        "id": "RWO_kkcCrO3t",
        "outputId": "07d83b07-986a-47a9-e03d-a50383ca6b4d"
      },
      "execution_count": null,
      "outputs": [
        {
          "output_type": "stream",
          "name": "stdout",
          "text": [
            "Click Through Rate: 0.0128012917\n"
          ]
        }
      ]
    },
    {
      "cell_type": "code",
      "source": [
        "\n",
        "bandit_mf_square = BanditMFSquare(config)\n",
        "# Train on 100 users online and track click through rate.\n",
        "num_online_users = 100\n",
        "num_clicks, num_events = 0, 0\n",
        "bandit_mf_square_result = []\n",
        "num_offline_users = 1000\n",
        "for _ in range(num_offline_users):\n",
        "\n",
        "    # Reset env and set done to False.\n",
        "    env.reset()\n",
        "    done = False\n",
        "\n",
        "    observation, reward, done = None, 0, False\n",
        "    action, observation, reward, done, info = env.step_offline(observation, reward, done)\n",
        "    while not done:\n",
        "        old_observation = observation\n",
        "        action, observation, reward, done, info = env.step_offline(observation, reward, done)\n",
        "        bandit_mf_square.train(old_observation, action, reward, done)\n",
        "\n",
        "for _ in range(num_online_users):\n",
        "\n",
        "    # Reset env and set done to False.\n",
        "    env.reset()\n",
        "    observation, _, done, _ = env.step(None)\n",
        "    reward = None\n",
        "    done = None\n",
        "    while not done:\n",
        "        action = bandit_mf_square.act(observation, reward, done)\n",
        "        observation, reward, done, info = env.step(action['a'])\n",
        "\n",
        "        # Used for calculating click through rate.\n",
        "        num_clicks += 1 if reward == 1 and reward is not None else 0\n",
        "        num_events += 1\n",
        "        bandit_mf_square_result.append(num_clicks/num_events)\n",
        "\n",
        "ctr = num_clicks / num_events\n",
        "\n",
        "print(f\"Click Through Rate: {ctr:.10f}\")\n",
        "\n"
      ],
      "metadata": {
        "colab": {
          "base_uri": "https://localhost:8080/"
        },
        "id": "yfa8pBOkqnNl",
        "outputId": "9523eb20-a0f2-424c-f188-916b17bdbdf6"
      },
      "execution_count": null,
      "outputs": [
        {
          "output_type": "stream",
          "name": "stdout",
          "text": [
            "Click Through Rate: 0.0147605904\n"
          ]
        }
      ]
    },
    {
      "cell_type": "code",
      "source": [
        "bandit_count = BanditCount(config)\n",
        "num_offline_users = 1000\n",
        "for _ in range(num_offline_users):\n",
        "\n",
        "    # Reset env and set done to False.\n",
        "    env.reset()\n",
        "    done = False\n",
        "\n",
        "    observation, reward, done = None, 0, False\n",
        "    action, observation, reward, done, info = env.step_offline(observation, reward, done)\n",
        "    while not done:\n",
        "        old_observation = observation\n",
        "        action, observation, reward, done, info = env.step_offline(observation, reward, done)\n",
        "        bandit_count.train(old_observation, action, reward, done)\n",
        "# Train on 100 users online and track click through rate.\n",
        "num_online_users = 100\n",
        "num_clicks, num_events = 0, 0\n",
        "bandit_count_result = []\n",
        "for _ in range(num_online_users):\n",
        "\n",
        "    # Reset env and set done to False.\n",
        "    env.reset()\n",
        "    observation, _, done, _ = env.step(None)\n",
        "    reward = None\n",
        "    done = None\n",
        "    while not done:\n",
        "        action = bandit_count.act(observation, reward, done)\n",
        "        observation, reward, done, info = env.step(action['a'])\n",
        "\n",
        "        # Used for calculating click through rate.\n",
        "        num_clicks += 1 if reward == 1 and reward is not None else 0\n",
        "        num_events += 1\n",
        "        bandit_count_result.append(num_clicks/num_events)\n",
        "\n",
        "ctr = num_clicks / num_events\n",
        "\n",
        "print(f\"Click Through Rate: {ctr:.10f}\")\n",
        "\n"
      ],
      "metadata": {
        "colab": {
          "base_uri": "https://localhost:8080/"
        },
        "id": "m7q66cO7mrkA",
        "outputId": "5354d06a-26be-431b-d76b-590ac525367f"
      },
      "execution_count": null,
      "outputs": [
        {
          "output_type": "stream",
          "name": "stdout",
          "text": [
            "Click Through Rate: 0.0141914602\n"
          ]
        }
      ]
    },
    {
      "cell_type": "code",
      "source": [
        "random_agent = RandomAgent(config)\n",
        "# Train on 100 users online and track click through rate.\n",
        "num_online_users = 100\n",
        "num_clicks, num_events = 0, 0\n",
        "random_agent_result = []\n",
        "for _ in range(num_online_users):\n",
        "\n",
        "    # Reset env and set done to False.\n",
        "    env.reset()\n",
        "    observation, _, done, _ = env.step(None)\n",
        "    reward = None\n",
        "    done = None\n",
        "    while not done:\n",
        "        action = random_agent.act(observation, reward, done)\n",
        "        observation, reward, done, info = env.step(action['a'])\n",
        "\n",
        "        # Used for calculating click through rate.\n",
        "        num_clicks += 1 if reward == 1 and reward is not None else 0\n",
        "        num_events += 1\n",
        "        random_agent_result.append(num_clicks/num_events)\n",
        "\n",
        "ctr = num_clicks / num_events\n",
        "\n",
        "print(f\"Click Through Rate: {ctr:.10f}\")\n",
        "\n"
      ],
      "metadata": {
        "colab": {
          "base_uri": "https://localhost:8080/"
        },
        "id": "UXEKNoKapzYA",
        "outputId": "62b3ac3c-d6f3-40bd-aad2-9637d06db950"
      },
      "execution_count": null,
      "outputs": [
        {
          "output_type": "stream",
          "name": "stdout",
          "text": [
            "Click Through Rate: 0.0119196989\n"
          ]
        }
      ]
    },
    {
      "cell_type": "code",
      "source": [
        "\n",
        "\n",
        "class MultiArmedBandit(Agent):\n",
        "    def __init__(self, config):\n",
        "      l = []\n",
        "      l.append(BanditCount(config))\n",
        "      l.append(BanditMFSquare(config))\n",
        "      l.append(PopularityAgent(config))\n",
        "      self.bandits = l\n",
        "      self.epsilon = 1\n",
        "      #self.weights = [1/len(self.bandits)]*len(self.bandits)\n",
        "      self.click_counts = [0,0,0]\n",
        "      self.call_counts = [0,0,0]\n",
        "      self.weights = [0]*len(self.bandits)\n",
        "      print(self.weights)\n",
        "      \n",
        "    def train(self, observation, action, reward, done):\n",
        "      for agent in self.bandits:\n",
        "        agent.train(observation,action,reward,done)\n",
        "    \n",
        "    def act(self, observation, reward, done):\n",
        "      if random.random()<self.epsilon:\n",
        "        index = random.choices([0,1,2], weights=(1,1,1), k=1)\n",
        "        agent = self.bandits[index[0]]\n",
        "        self.call_counts[index[0]]+=1\n",
        "        index = index[0]\n",
        "      else:\n",
        "        max_value = max(self.weights)\n",
        "        index = self.weights.index(max_value)\n",
        "        agent = self.bandits[index]\n",
        "        self.call_counts[index]+=1\n",
        "      action = agent.act(observation,reward,done)\n",
        "      if(sum(self.click_counts)!=0):\n",
        "        self.epsilon = 1/sum(self.click_counts)\n",
        "      return action,index"
      ],
      "metadata": {
        "id": "Ca70IemZAD-e"
      },
      "execution_count": null,
      "outputs": []
    },
    {
      "cell_type": "code",
      "source": [
        "multi_armed_bandit = MultiArmedBandit(config)\n",
        "num_offline_users = 1000\n"
      ],
      "metadata": {
        "colab": {
          "base_uri": "https://localhost:8080/"
        },
        "id": "NJFM4e52A11-",
        "outputId": "263a77b6-d9f4-49a1-e860-8264c80783d7"
      },
      "execution_count": null,
      "outputs": [
        {
          "output_type": "stream",
          "name": "stdout",
          "text": [
            "[0, 0, 0]\n"
          ]
        }
      ]
    },
    {
      "cell_type": "code",
      "source": [
        "for _ in range(num_offline_users):\n",
        "\n",
        "    # Reset env and set done to False.\n",
        "    env.reset()\n",
        "    done = False\n",
        "\n",
        "    observation, reward, done = None, 0, False\n",
        "    action, observation, reward, done, info = env.step_offline(observation, reward, done)\n",
        "    while not done:\n",
        "        old_observation = observation\n",
        "        action, observation, reward, done, info = env.step_offline(observation, reward, done)\n",
        "        multi_armed_bandit.train(old_observation, action, reward, done)\n"
      ],
      "metadata": {
        "id": "CCMXpKFTE2fQ"
      },
      "execution_count": null,
      "outputs": []
    },
    {
      "cell_type": "code",
      "source": [
        "# Train on 100 users online and track click through rate.\n",
        "num_online_users = 100\n",
        "num_clicks, num_events = 0, 0\n",
        "bandit_result = []\n",
        "for _ in range(num_online_users):\n",
        "\n",
        "    # Reset env and set done to False.\n",
        "    env.reset()\n",
        "    observation, _, done, _ = env.step(None)\n",
        "    reward = None\n",
        "    done = None\n",
        "    while not done:\n",
        "        action,index = multi_armed_bandit.act(observation, reward, done)\n",
        "        observation, reward, done, info = env.step(action['a'])\n",
        "        if(reward==1):\n",
        "          multi_armed_bandit.click_counts[index]+=1\n",
        "        for i in range(3):\n",
        "          if(multi_armed_bandit.call_counts[i]!=0):\n",
        "            multi_armed_bandit.weights[i]=multi_armed_bandit.click_counts[i]/multi_armed_bandit.call_counts[i]\n",
        "\n",
        "        # Used for calculating click through rate.\n",
        "        num_clicks += 1 if reward == 1 and reward is not None else 0\n",
        "        num_events += 1\n",
        "        bandit_result.append(num_clicks/num_events)\n",
        "\n",
        "ctr = num_clicks / num_events\n",
        "\n",
        "print(f\"Click Through Rate: {ctr:.10f}\")"
      ],
      "metadata": {
        "colab": {
          "base_uri": "https://localhost:8080/"
        },
        "id": "xSLkZe2tLtTK",
        "outputId": "7365fffc-38f3-4689-bb7c-371448548ebc"
      },
      "execution_count": null,
      "outputs": [
        {
          "output_type": "stream",
          "name": "stdout",
          "text": [
            "Click Through Rate: 0.0153680237\n"
          ]
        }
      ]
    },
    {
      "cell_type": "code",
      "source": [
        "print(multi_armed_bandit.weights)"
      ],
      "metadata": {
        "colab": {
          "base_uri": "https://localhost:8080/"
        },
        "id": "fDUgsWS1c_UM",
        "outputId": "84a9b71e-4546-4547-f9bb-afd3076500de"
      },
      "execution_count": null,
      "outputs": [
        {
          "output_type": "stream",
          "name": "stdout",
          "text": [
            "[0.014705882352941176, 0.015429934072099874, 0.013071895424836602]\n"
          ]
        }
      ]
    },
    {
      "cell_type": "code",
      "source": [
        "print(num_events)"
      ],
      "metadata": {
        "colab": {
          "base_uri": "https://localhost:8080/"
        },
        "id": "SQvt3sY1fIZ5",
        "outputId": "e06d72d6-e6ad-4a62-bdf5-f26da17d9514"
      },
      "execution_count": null,
      "outputs": [
        {
          "output_type": "stream",
          "name": "stdout",
          "text": [
            "7418\n"
          ]
        }
      ]
    },
    {
      "cell_type": "code",
      "source": [
        "import matplotlib.pyplot as plt\n",
        "import numpy as np\n",
        "\n",
        "ypoints = np.array(bandit_result)\n",
        "\n",
        "plt.plot(ypoints)\n"
      ],
      "metadata": {
        "colab": {
          "base_uri": "https://localhost:8080/",
          "height": 282
        },
        "id": "KCL7I53Zhncz",
        "outputId": "7b92fde8-1c96-4cc8-ae40-fdf3e4f1716f"
      },
      "execution_count": null,
      "outputs": [
        {
          "output_type": "execute_result",
          "data": {
            "text/plain": [
              "[<matplotlib.lines.Line2D at 0x7f8023db3310>]"
            ]
          },
          "metadata": {},
          "execution_count": 15
        },
        {
          "output_type": "display_data",
          "data": {
            "image/png": "[encoded data removed]",
            "text/plain": [
              "<Figure size 432x288 with 1 Axes>"
            ]
          },
          "metadata": {
            "needs_background": "light"
          }
        }
      ]
    },
    {
      "cell_type": "code",
      "source": [
        "bandit_result = np.array(bandit_result[100:])\n",
        "bandit_count_result = np.array(bandit_count_result[100:])\n",
        "popularity_agent_result = np.array(popularity_agent_result[100:])\n",
        "bandit_mf_square_result = np.array(bandit_mf_square_result[100:])\n",
        "random_agent_result = np.array(random_agent_result[100:])\n",
        "plt.plot(bandit_count_result,color='green',label='bandit_count')\n",
        "plt.plot(bandit_result,color='blue',label='bandit')\n",
        "plt.plot(popularity_agent_result,color='red',label='popularity_agent')\n",
        "plt.plot(bandit_mf_square_result,color='c',label='bandit_mf_square')\n",
        "plt.plot(random_agent_result,color='m',label='random')\n",
        "plt.legend()\n",
        "\n",
        "plt.show()\n"
      ],
      "metadata": {
        "colab": {
          "base_uri": "https://localhost:8080/",
          "height": 265
        },
        "id": "tVm4HinTnWAQ",
        "outputId": "38283734-81a4-4db4-a84c-fb2a40562558"
      },
      "execution_count": null,
      "outputs": [
        {
          "output_type": "display_data",
          "data": {
            "image/png": "[encoded data removed]",
            "text/plain": [
              "<Figure size 432x288 with 1 Axes>"
            ]
          },
          "metadata": {
            "needs_background": "light"
          }
        }
      ]
    },
    {
      "cell_type": "markdown",
      "source": [
        "Changing the rate to epsilon change to gain an advantage which allows more exploration initially and finally settling to exploit\n"
      ],
      "metadata": {
        "id": "wHMeKOtEAj95"
      }
    },
    {
      "cell_type": "code",
      "source": [
        "class BetterMultiArmedBandit(Agent):\n",
        "    def __init__(self, config):\n",
        "      l = []\n",
        "      l.append(BanditCount(config))\n",
        "      l.append(BanditMFSquare(config))\n",
        "      l.append(PopularityAgent(config))\n",
        "      self.bandits = l\n",
        "      self.epsilon = 1\n",
        "      #self.weights = [1/len(self.bandits)]*len(self.bandits)\n",
        "      self.click_counts = [0,0,0]\n",
        "      self.call_counts = [0,0,0]\n",
        "      self.weights = [0]*len(self.bandits)\n",
        "      print(self.weights)\n",
        "      \n",
        "    def train(self, observation, action, reward, done):\n",
        "      for agent in self.bandits:\n",
        "        agent.train(observation,action,reward,done)\n",
        "    \n",
        "    def act(self, observation, reward, done):\n",
        "      if random.random()<self.epsilon:\n",
        "        index = random.choices([0,1,2], weights=(1,1,1), k=1)\n",
        "        agent = self.bandits[index[0]]\n",
        "        self.call_counts[index[0]]+=1\n",
        "        index = index[0]\n",
        "      else:\n",
        "        max_value = max(self.weights)\n",
        "        index = self.weights.index(max_value)\n",
        "        agent = self.bandits[index]\n",
        "        self.call_counts[index]+=1\n",
        "      action = agent.act(observation,reward,done)\n",
        "      #if(sum(self.click_counts)!=0):\n",
        "      #  self.epsilon = 1/(sum(self.click_counts))\n",
        "      return action,index\n",
        "\n",
        "from torch import nn, optim, Tensor\n",
        "\n",
        "custom_args = {    \n",
        "    'num_products': 10,\n",
        "    'number_of_flips': 1,\n",
        "    'random_seed': np.random.randint(2 ** 31 - 1),\n",
        "    'select_randomly': False,\n",
        "    'poly_degree': 2,\n",
        "    'solver': 'lbfgs',\n",
        "    'max_iter': 5000,\n",
        "    'with_ps_all': False,\n",
        "    'embed_dim': 5,\n",
        "    'mini_batch_size': 32,\n",
        "    'loss_function': nn.BCEWithLogitsLoss(),\n",
        "    'optim_function': optim.RMSprop,\n",
        "    'learning_rate': 0.01,\n",
        "    'with_ps_all': False\n",
        "}\n",
        "config = Configuration({ \n",
        "        **env_1_args,\n",
        "        **custom_args,\n",
        "})\n",
        "\n",
        "multi_armed_bandit = BetterMultiArmedBandit(config)\n",
        "num_offline_users = 1000\n",
        "\n",
        "for _ in range(num_offline_users):\n",
        "\n",
        "    # Reset env and set done to False.\n",
        "    env.reset()\n",
        "    done = False\n",
        "\n",
        "    observation, reward, done = None, 0, False\n",
        "    action, observation, reward, done, info = env.step_offline(observation, reward, done)\n",
        "    while not done:\n",
        "        old_observation = observation\n",
        "        action, observation, reward, done, info = env.step_offline(observation, reward, done)\n",
        "        multi_armed_bandit.train(old_observation, action, reward, done)\n",
        "\n",
        "# Train on 100 users online and track click through rate.\n",
        "num_online_users = 100\n",
        "num_clicks, num_events = 0, 0\n",
        "better_bandit_result = []\n",
        "for i in range(num_online_users):\n",
        "\n",
        "    # Reset env and set done to False.\n",
        "    env.reset()\n",
        "    observation, _, done, _ = env.step(None)\n",
        "    reward = None\n",
        "    done = None\n",
        "    while not done:\n",
        "        action,index = multi_armed_bandit.act(observation, reward, done)\n",
        "        observation, reward, done, info = env.step(action['a'])\n",
        "        if(reward==1):\n",
        "          multi_armed_bandit.click_counts[index]+=1\n",
        "        for i in range(3):\n",
        "          if(multi_armed_bandit.call_counts[i]!=0):\n",
        "            multi_armed_bandit.weights[i]=multi_armed_bandit.click_counts[i]/multi_armed_bandit.call_counts[i]\n",
        "\n",
        "        # Used for calculating click through rate.\n",
        "        num_clicks += 1 if reward == 1 and reward is not None else 0\n",
        "        num_events += 1\n",
        "        better_bandit_result.append(num_clicks/num_events)\n",
        "    if(i!=0):\n",
        "      multi_armed_bandit.epsilon = 1/i*0.5\n",
        "\n",
        "ctr = num_clicks / num_events\n",
        "\n",
        "print(f\"Click Through Rate: {ctr:.10f}\")"
      ],
      "metadata": {
        "colab": {
          "base_uri": "https://localhost:8080/"
        },
        "id": "vMTVUam0oU-e",
        "outputId": "ba411cb5-030e-4821-aa5a-6880bd577494"
      },
      "execution_count": null,
      "outputs": [
        {
          "output_type": "stream",
          "name": "stdout",
          "text": [
            "[0, 0, 0]\n",
            "Click Through Rate: 0.0176670177\n"
          ]
        }
      ]
    },
    {
      "cell_type": "code",
      "source": [
        "bandit_result = np.array(bandit_result)\n",
        "better_bandit_result = np.array(better_bandit_result)\n",
        "plt.plot(bandit_result,color='blue',label='old_bandit')\n",
        "plt.plot(better_bandit_result,color='red',label='new_bandit')\n",
        "plt.legend()\n",
        "\n",
        "plt.show()\n"
      ],
      "metadata": {
        "colab": {
          "base_uri": "https://localhost:8080/",
          "height": 265
        },
        "id": "nuwhc-NEyEeM",
        "outputId": "cad531e2-bc56-4ab2-91a6-216a5cbf851e"
      },
      "execution_count": null,
      "outputs": [
        {
          "output_type": "display_data",
          "data": {
            "image/png": "[encoded data removed]",
            "text/plain": [
              "<Figure size 432x288 with 1 Axes>"
            ]
          },
          "metadata": {
            "needs_background": "light"
          }
        }
      ]
    },
    {
      "cell_type": "code",
      "source": [
        "print(multi_armed_bandit.weights)"
      ],
      "metadata": {
        "colab": {
          "base_uri": "https://localhost:8080/"
        },
        "id": "D5SMjZWtySiP",
        "outputId": "645d3c89-4cba-4b4c-a71f-ab2b471aa92b"
      },
      "execution_count": null,
      "outputs": [
        {
          "output_type": "stream",
          "name": "stdout",
          "text": [
            "[0.008915304606240713, 0.016396642592231114, 0.012442698100851343]\n"
          ]
        }
      ]
    },
    {
      "cell_type": "code",
      "source": [],
      "metadata": {
        "id": "P2cCuUyH8aOY"
      },
      "execution_count": null,
      "outputs": []
    }
  ]
}